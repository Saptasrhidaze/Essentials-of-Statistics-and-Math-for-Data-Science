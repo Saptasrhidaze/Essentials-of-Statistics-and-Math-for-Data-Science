{
 "cells": [
  {
   "cell_type": "code",
   "execution_count": null,
   "id": "a191a962-e411-433b-af89-b17010d01a04",
   "metadata": {},
   "outputs": [],
   "source": [
    "import pandas as pd\n",
    "import statsmodels.api as sm\n",
    "\n",
    "# Load the dataset\n",
    "file_path = r\"C:\\Users\\sapta\\Downloads\\Dataset_1.xlsx\"\n",
    "data = pd.read_excel(file_path)\n",
    "data_filtered = data[data['NO_OF_BEDROOMS'] == 2].copy()\n",
    "data_filtered = data_filtered[['PRICE', 'PRICE_SQFT', 'NO_OF_BATHROOMS', 'FLOOR_SIZE']].dropna()\n",
    "X = data_filtered[['PRICE_SQFT', 'NO_OF_BATHROOMS', 'FLOOR_SIZE']]\n",
    "y = data_filtered['PRICE']\n",
    "X = sm.add_constant(X)\n",
    "model = sm.OLS(y, X).fit()\n",
    "print(model.summary())"
   ]
  }
 ],
 "metadata": {
  "kernelspec": {
   "display_name": "Python 3 (ipykernel)",
   "language": "python",
   "name": "python3"
  },
  "language_info": {
   "codemirror_mode": {
    "name": "ipython",
    "version": 3
   },
   "file_extension": ".py",
   "mimetype": "text/x-python",
   "name": "python",
   "nbconvert_exporter": "python",
   "pygments_lexer": "ipython3",
   "version": "3.11.7"
  }
 },
 "nbformat": 4,
 "nbformat_minor": 5
}
